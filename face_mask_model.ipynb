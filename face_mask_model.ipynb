{
 "cells": [
  {
   "cell_type": "code",
   "execution_count": 1,
   "metadata": {},
   "outputs": [],
   "source": [
    "import os\n",
    "import numpy as np\n",
    "import pandas as pd\n",
    "import matplotlib.pyplot as plt\n",
    "import matplotlib.image as img\n",
    "import seaborn as sns\n",
    "import cv2\n",
    "from PIL import Image"
   ]
  },
  {
   "cell_type": "code",
   "execution_count": null,
   "metadata": {},
   "outputs": [],
   "source": [
    "file_with_mask=os.listdir(r\"C:\\Users\\haider\\Desktop\\New folder (3)\\Face Mask\\data\\with_mask\")\n",
    "file_without_mask=os.listdir(r\"C:\\Users\\haider\\Desktop\\New folder (3)\\Face Mask\\data\\without_mask\")\n",
    "\n",
    "print(len(file_with_mask),len(file_without_mask))\n",
    "print(file_with_mask)\n",
    "print(file_without_mask)"
   ]
  },
  {
   "cell_type": "code",
   "execution_count": null,
   "metadata": {},
   "outputs": [],
   "source": [
    "os.mkdir(r\"C:\\Users\\haider\\Desktop\\New folder (3)\\Face Mask\\dataets_file\")\n",
    "old_path_mask=\"C:\\\\Users\\\\haider\\\\Desktop\\\\New folder (3)\\\\Face Mask\\\\data\\\\with_mask\\\\\"\n",
    "new_path=\"C:\\\\Users\\\\haider\\\\Desktop\\\\New folder (3)\\\\Face Mask\\\\dataets_file\\\\\"\n",
    "\n",
    "for i in range(1000):\n",
    "    file_index=file_with_mask[i]\n",
    "    image_with_mask=Image.open(old_path_mask+file_index)\n",
    "    image_with_mask=image_with_mask.resize((128,128))\n",
    "    image_with_mask=image_with_mask.convert(\"RGB\")\n",
    "    image_with_mask.save(new_path+file_index)"
   ]
  },
  {
   "cell_type": "code",
   "execution_count": null,
   "metadata": {},
   "outputs": [],
   "source": [
    "old_path_without_mask=\"C:\\\\Users\\\\haider\\\\Desktop\\\\New folder (3)\\\\Face Mask\\\\data\\\\without_mask\\\\\"\n",
    "\n",
    "for i in range(1000):\n",
    "    file_index_2=file_without_mask[i]\n",
    "    image_without_mask=Image.open(old_path_without_mask+file_index_2)\n",
    "    image_without_mask=image_without_mask.resize((128,128))\n",
    "    image_without_mask=image_without_mask.convert(\"RGB\")\n",
    "    image_without_mask.save(new_path+file_index_2)"
   ]
  },
  {
   "cell_type": "code",
   "execution_count": null,
   "metadata": {},
   "outputs": [],
   "source": [
    "data_face=os.listdir(r\"C:\\Users\\haider\\Desktop\\New folder (3)\\Face Mask\\dataets_file\")\n",
    "print(len(data_face),data_face)"
   ]
  },
  {
   "cell_type": "code",
   "execution_count": 6,
   "metadata": {},
   "outputs": [
    {
     "name": "stdout",
     "output_type": "stream",
     "text": [
      "2000 [1 1 1 ... 0 0 0]\n"
     ]
    }
   ],
   "source": [
    "label_of_dataset=[]\n",
    "\n",
    "for item in data_face:\n",
    "    if item[:5]==\"with_\":\n",
    "        label_of_dataset.append(0)\n",
    "    else:\n",
    "        label_of_dataset.append(1)\n",
    "\n",
    "label_ready=np.array(label_of_dataset)\n",
    "print(len(label_ready),label_ready)"
   ]
  },
  {
   "cell_type": "code",
   "execution_count": null,
   "metadata": {},
   "outputs": [],
   "source": [
    "data_of_face=[]\n",
    "\n",
    "for face in data_face:\n",
    "    face_image=Image.open(new_path+face)\n",
    "    face_image=np.array(face_image)\n",
    "    data_of_face.append(face_image)\n",
    "\n",
    "data_ready=np.array(data_of_face)\n",
    "print(len(data_of_face),data_of_face)"
   ]
  },
  {
   "cell_type": "code",
   "execution_count": 8,
   "metadata": {},
   "outputs": [
    {
     "name": "stdout",
     "output_type": "stream",
     "text": [
      "(2000, 128, 128, 3) (2000,) (1600, 128, 128, 3) (1600,) (400, 128, 128, 3) (400,)\n"
     ]
    }
   ],
   "source": [
    "from sklearn.model_selection import train_test_split\n",
    "train_x,test_x,train_y,test_y=train_test_split(data_ready,label_ready,test_size=.2,random_state=42)\n",
    "print(data_ready.shape,label_ready.shape,train_x.shape,train_y.shape,test_x.shape,test_y.shape)"
   ]
  },
  {
   "cell_type": "code",
   "execution_count": 9,
   "metadata": {},
   "outputs": [],
   "source": [
    "train_x_set=train_x/255\n",
    "test_x_set=test_x/255"
   ]
  },
  {
   "cell_type": "code",
   "execution_count": 10,
   "metadata": {},
   "outputs": [],
   "source": [
    "import tensorflow as tf"
   ]
  },
  {
   "cell_type": "code",
   "execution_count": 11,
   "metadata": {},
   "outputs": [
    {
     "name": "stderr",
     "output_type": "stream",
     "text": [
      "c:\\Users\\haider\\AppData\\Local\\Programs\\Python\\Python311\\Lib\\site-packages\\keras\\src\\layers\\convolutional\\base_conv.py:107: UserWarning: Do not pass an `input_shape`/`input_dim` argument to a layer. When using Sequential models, prefer using an `Input(shape)` object as the first layer in the model instead.\n",
      "  super().__init__(activity_regularizer=activity_regularizer, **kwargs)\n"
     ]
    }
   ],
   "source": [
    "model=tf.keras.Sequential()\n",
    "\n",
    "model.add(tf.keras.layers.Conv2D(32, kernel_size=(3,3), activation=\"relu\", input_shape=(128,128,3)))\n",
    "model.add(tf.keras.layers.MaxPooling2D(pool_size=(2,2)))\n",
    "\n",
    "model.add(tf.keras.layers.Conv2D(64, kernel_size=(3,3), activation=\"relu\"))\n",
    "model.add(tf.keras.layers.MaxPooling2D(pool_size=(2,2)))\n",
    "\n",
    "model.add(tf.keras.layers.Flatten())\n",
    "\n",
    "model.add(tf.keras.layers.Dense(128, activation=\"relu\"))\n",
    "model.add(tf.keras.layers.Dropout(0.5))\n",
    "\n",
    "model.add(tf.keras.layers.Dense(64, activation=\"relu\"))\n",
    "model.add(tf.keras.layers.Dropout(0.5))\n",
    "\n",
    "model.add(tf.keras.layers.Dense(2, activation=\"sigmoid\"))\n"
   ]
  },
  {
   "cell_type": "code",
   "execution_count": 12,
   "metadata": {},
   "outputs": [],
   "source": [
    "model.compile(\n",
    "    optimizer=\"adam\",\n",
    "    loss=\"sparse_categorical_crossentropy\",\n",
    "    metrics=[\"accuracy\"]\n",
    ")"
   ]
  },
  {
   "cell_type": "code",
   "execution_count": 13,
   "metadata": {},
   "outputs": [
    {
     "name": "stdout",
     "output_type": "stream",
     "text": [
      "Epoch 1/5\n",
      "\u001b[1m45/45\u001b[0m \u001b[32m━━━━━━━━━━━━━━━━━━━━\u001b[0m\u001b[37m\u001b[0m \u001b[1m94s\u001b[0m 2s/step - accuracy: 0.5943 - loss: 1.1602 - val_accuracy: 0.8438 - val_loss: 0.3776\n",
      "Epoch 2/5\n",
      "\u001b[1m45/45\u001b[0m \u001b[32m━━━━━━━━━━━━━━━━━━━━\u001b[0m\u001b[37m\u001b[0m \u001b[1m70s\u001b[0m 2s/step - accuracy: 0.8827 - loss: 0.3268 - val_accuracy: 0.8750 - val_loss: 0.2952\n",
      "Epoch 3/5\n",
      "\u001b[1m45/45\u001b[0m \u001b[32m━━━━━━━━━━━━━━━━━━━━\u001b[0m\u001b[37m\u001b[0m \u001b[1m68s\u001b[0m 2s/step - accuracy: 0.9279 - loss: 0.2323 - val_accuracy: 0.8875 - val_loss: 0.2928\n",
      "Epoch 4/5\n",
      "\u001b[1m45/45\u001b[0m \u001b[32m━━━━━━━━━━━━━━━━━━━━\u001b[0m\u001b[37m\u001b[0m \u001b[1m69s\u001b[0m 2s/step - accuracy: 0.9383 - loss: 0.1757 - val_accuracy: 0.8938 - val_loss: 0.2938\n",
      "Epoch 5/5\n",
      "\u001b[1m45/45\u001b[0m \u001b[32m━━━━━━━━━━━━━━━━━━━━\u001b[0m\u001b[37m\u001b[0m \u001b[1m81s\u001b[0m 2s/step - accuracy: 0.9539 - loss: 0.1380 - val_accuracy: 0.9000 - val_loss: 0.3265\n"
     ]
    }
   ],
   "source": [
    "history=model.fit(train_x_set,train_y, validation_split=.1, epochs=5)"
   ]
  },
  {
   "cell_type": "code",
   "execution_count": 14,
   "metadata": {},
   "outputs": [
    {
     "name": "stdout",
     "output_type": "stream",
     "text": [
      "\u001b[1m13/13\u001b[0m \u001b[32m━━━━━━━━━━━━━━━━━━━━\u001b[0m\u001b[37m\u001b[0m \u001b[1m5s\u001b[0m 332ms/step - accuracy: 0.9643 - loss: 0.1273\n"
     ]
    }
   ],
   "source": [
    "loss, accuracy =model.evaluate(test_x_set,test_y)"
   ]
  },
  {
   "cell_type": "code",
   "execution_count": 15,
   "metadata": {},
   "outputs": [
    {
     "data": {
      "text/plain": [
       "<matplotlib.legend.Legend at 0x1967135e310>"
      ]
     },
     "execution_count": 15,
     "metadata": {},
     "output_type": "execute_result"
    },
    {
     "data": {
      "image/png": "[encoded data removed]",
      "text/plain": [
       "<Figure size 640x480 with 1 Axes>"
      ]
     },
     "metadata": {},
     "output_type": "display_data"
    }
   ],
   "source": [
    "plt.plot(history.history[\"accuracy\"],\"r\", label=\"accuracy\")\n",
    "plt.plot(history.history[\"val_accuracy\"],\"b\", label=\"val_accuracy\")\n",
    "plt.legend()"
   ]
  },
  {
   "cell_type": "code",
   "execution_count": 16,
   "metadata": {},
   "outputs": [
    {
     "name": "stdout",
     "output_type": "stream",
     "text": [
      "\u001b[1m13/13\u001b[0m \u001b[32m━━━━━━━━━━━━━━━━━━━━\u001b[0m\u001b[37m\u001b[0m \u001b[1m4s\u001b[0m 310ms/step\n"
     ]
    },
    {
     "data": {
      "text/plain": [
       "array([0.999869  , 0.00147209], dtype=float32)"
      ]
     },
     "execution_count": 16,
     "metadata": {},
     "output_type": "execute_result"
    }
   ],
   "source": [
    "pre=model.predict(test_x_set)\n",
    "pre[0]"
   ]
  },
  {
   "cell_type": "code",
   "execution_count": 17,
   "metadata": {},
   "outputs": [
    {
     "data": {
      "text/plain": [
       "array([0.7134845 , 0.41174057], dtype=float32)"
      ]
     },
     "execution_count": 17,
     "metadata": {},
     "output_type": "execute_result"
    }
   ],
   "source": [
    "pre[45]"
   ]
  },
  {
   "cell_type": "code",
   "execution_count": 18,
   "metadata": {},
   "outputs": [],
   "source": [
    "model.save(\"face_mask_detection.keras\")"
   ]
  },
  {
   "cell_type": "code",
   "execution_count": null,
   "metadata": {},
   "outputs": [],
   "source": [
    "inputted_face=input(\"Enter the face picture:\")\n",
    "image=Image.open(inputted_face)\n",
    "image=image.resize((128,128))\n",
    "plt.imshow(image)\n",
    "image=np.array(image)\n",
    "image=image/255\n",
    "image=image.reshape(1,128,128,3)\n",
    "pred=model.predict(image)\n",
    "prediction=pred.argmax()\n",
    "pred\n",
    "if prediction==0:\n",
    "    print('This person is wearing a mask')\n",
    "else:\n",
    "    print(\"This person is not wearing mask\")"
   ]
  }
 ],
 "metadata": {
  "kernelspec": {
   "display_name": "Python 3",
   "language": "python",
   "name": "python3"
  },
  "language_info": {
   "codemirror_mode": {
    "name": "ipython",
    "version": 3
   },
   "file_extension": ".py",
   "mimetype": "text/x-python",
   "name": "python",
   "nbconvert_exporter": "python",
   "pygments_lexer": "ipython3",
   "version": "3.11.9"
  }
 },
 "nbformat": 4,
 "nbformat_minor": 2
}
